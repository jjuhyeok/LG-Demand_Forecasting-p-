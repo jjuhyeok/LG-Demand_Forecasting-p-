{
 "cells": [
  {
   "cell_type": "code",
   "execution_count": 1,
   "metadata": {
    "execution": {
     "iopub.execute_input": "2023-08-23T00:26:47.565018Z",
     "iopub.status.busy": "2023-08-23T00:26:47.564355Z",
     "iopub.status.idle": "2023-08-23T00:26:56.689828Z",
     "shell.execute_reply": "2023-08-23T00:26:56.688635Z",
     "shell.execute_reply.started": "2023-08-23T00:26:47.564995Z"
    }
   },
   "outputs": [
    {
     "name": "stdout",
     "output_type": "stream",
     "text": [
      "Collecting statsmodels\n",
      "  Downloading statsmodels-0.14.0-cp39-cp39-manylinux_2_17_x86_64.manylinux2014_x86_64.whl (10.1 MB)\n",
      "\u001b[2K     \u001b[90m━━━━━━━━━━━━━━━━━━━━━━━━━━━━━━━━━━━━━━━\u001b[0m \u001b[32m10.1/10.1 MB\u001b[0m \u001b[31m105.5 MB/s\u001b[0m eta \u001b[36m0:00:00\u001b[0m00:01\u001b[0m00:01\u001b[0m\n",
      "\u001b[?25hCollecting scipy!=1.9.2,>=1.4\n",
      "  Downloading scipy-1.11.2-cp39-cp39-manylinux_2_17_x86_64.manylinux2014_x86_64.whl (36.5 MB)\n",
      "\u001b[2K     \u001b[90m━━━━━━━━━━━━━━━━━━━━━━━━━━━━━━━━━━━━━━━━\u001b[0m \u001b[32m36.5/36.5 MB\u001b[0m \u001b[31m50.9 MB/s\u001b[0m eta \u001b[36m0:00:00\u001b[0m00:01\u001b[0m00:01\u001b[0m\n",
      "\u001b[?25hRequirement already satisfied: pandas>=1.0 in /usr/local/lib/python3.9/dist-packages (from statsmodels) (1.5.0)\n",
      "Requirement already satisfied: numpy>=1.18 in /usr/local/lib/python3.9/dist-packages (from statsmodels) (1.23.4)\n",
      "Collecting patsy>=0.5.2\n",
      "  Downloading patsy-0.5.3-py2.py3-none-any.whl (233 kB)\n",
      "\u001b[2K     \u001b[90m━━━━━━━━━━━━━━━━━━━━━━━━━━━━━━━━━━━━━━\u001b[0m \u001b[32m233.8/233.8 kB\u001b[0m \u001b[31m64.5 MB/s\u001b[0m eta \u001b[36m0:00:00\u001b[0m\n",
      "\u001b[?25hRequirement already satisfied: packaging>=21.3 in /usr/local/lib/python3.9/dist-packages (from statsmodels) (23.0)\n",
      "Requirement already satisfied: python-dateutil>=2.8.1 in /usr/local/lib/python3.9/dist-packages (from pandas>=1.0->statsmodels) (2.8.2)\n",
      "Requirement already satisfied: pytz>=2020.1 in /usr/local/lib/python3.9/dist-packages (from pandas>=1.0->statsmodels) (2022.7.1)\n",
      "Requirement already satisfied: six in /usr/lib/python3/dist-packages (from patsy>=0.5.2->statsmodels) (1.14.0)\n",
      "Installing collected packages: scipy, patsy, statsmodels\n",
      "  Attempting uninstall: scipy\n",
      "    Found existing installation: scipy 1.9.2\n",
      "    Uninstalling scipy-1.9.2:\n",
      "      Successfully uninstalled scipy-1.9.2\n",
      "Successfully installed patsy-0.5.3 scipy-1.11.2 statsmodels-0.14.0\n",
      "\u001b[33mWARNING: Running pip as the 'root' user can result in broken permissions and conflicting behaviour with the system package manager. It is recommended to use a virtual environment instead: https://pip.pypa.io/warnings/venv\u001b[0m\u001b[33m\n",
      "\u001b[0m"
     ]
    }
   ],
   "source": [
    "!pip install statsmodels"
   ]
  },
  {
   "cell_type": "code",
   "execution_count": 13,
   "metadata": {
    "execution": {
     "iopub.execute_input": "2023-08-23T00:26:56.691810Z",
     "iopub.status.busy": "2023-08-23T00:26:56.691287Z",
     "iopub.status.idle": "2023-08-23T00:26:57.903277Z",
     "shell.execute_reply": "2023-08-23T00:26:57.902685Z",
     "shell.execute_reply.started": "2023-08-23T00:26:56.691788Z"
    },
    "id": "y7WRhEJGOsIF"
   },
   "outputs": [],
   "source": [
    "import random\n",
    "import os\n",
    "import pandas as pd\n",
    "import numpy as np\n",
    "from tqdm.auto import tqdm\n",
    "from sklearn.preprocessing import LabelEncoder\n",
    "from statsmodels.tsa.seasonal import seasonal_decompose\n",
    "\n",
    "import torch\n",
    "import torch.nn as nn\n",
    "import torch.optim as optim\n",
    "import torch.nn.functional as F\n",
    "from torch.utils.data import Dataset, DataLoader"
   ]
  },
  {
   "cell_type": "code",
   "execution_count": 14,
   "metadata": {
    "execution": {
     "iopub.execute_input": "2023-08-23T00:26:57.904364Z",
     "iopub.status.busy": "2023-08-23T00:26:57.904108Z",
     "iopub.status.idle": "2023-08-23T00:26:57.931872Z",
     "shell.execute_reply": "2023-08-23T00:26:57.931286Z",
     "shell.execute_reply.started": "2023-08-23T00:26:57.904347Z"
    },
    "id": "9c9xMvzkOsFf"
   },
   "outputs": [
    {
     "data": {
      "text/plain": [
       "device(type='cuda')"
      ]
     },
     "execution_count": 14,
     "metadata": {},
     "output_type": "execute_result"
    }
   ],
   "source": [
    "device = torch.device('cuda') if torch.cuda.is_available() else torch.device('cpu')\n",
    "device"
   ]
  },
  {
   "cell_type": "code",
   "execution_count": 15,
   "metadata": {
    "execution": {
     "iopub.execute_input": "2023-08-23T00:26:57.932786Z",
     "iopub.status.busy": "2023-08-23T00:26:57.932613Z",
     "iopub.status.idle": "2023-08-23T00:26:57.936341Z",
     "shell.execute_reply": "2023-08-23T00:26:57.935850Z",
     "shell.execute_reply.started": "2023-08-23T00:26:57.932771Z"
    },
    "id": "78MPxH4cO3VR"
   },
   "outputs": [],
   "source": [
    "def seed_everything(seed):\n",
    "    random.seed(seed)\n",
    "    os.environ['PYTHONHASHSEED'] = str(seed)\n",
    "    np.random.seed(seed)\n",
    "    torch.manual_seed(seed)\n",
    "    torch.cuda.manual_seed(seed)\n",
    "    torch.backends.cudnn.deterministic = True\n",
    "    torch.backends.cudnn.benchmark = True"
   ]
  },
  {
   "cell_type": "code",
   "execution_count": 16,
   "metadata": {
    "execution": {
     "iopub.execute_input": "2023-08-23T00:26:57.937920Z",
     "iopub.status.busy": "2023-08-23T00:26:57.937756Z",
     "iopub.status.idle": "2023-08-23T00:26:57.941778Z",
     "shell.execute_reply": "2023-08-23T00:26:57.941228Z",
     "shell.execute_reply.started": "2023-08-23T00:26:57.937905Z"
    },
    "id": "TLM1b6iIPG1s"
   },
   "outputs": [],
   "source": [
    "class CustomDataset(Dataset):\n",
    "    def __init__(self, X, Y):\n",
    "        self.X = X\n",
    "        self.Y = Y\n",
    "\n",
    "    def __getitem__(self, index):\n",
    "        if self.Y is not None:\n",
    "            return torch.Tensor(self.X[index]), torch.Tensor(self.Y[index])\n",
    "        return torch.Tensor(self.X[index])\n",
    "\n",
    "    def __len__(self):\n",
    "        return len(self.X)"
   ]
  },
  {
   "cell_type": "code",
   "execution_count": 17,
   "metadata": {
    "execution": {
     "iopub.execute_input": "2023-08-23T00:26:57.942826Z",
     "iopub.status.busy": "2023-08-23T00:26:57.942659Z",
     "iopub.status.idle": "2023-08-23T00:26:57.948294Z",
     "shell.execute_reply": "2023-08-23T00:26:57.947643Z",
     "shell.execute_reply.started": "2023-08-23T00:26:57.942811Z"
    },
    "id": "_hZrdZoAPRv5"
   },
   "outputs": [],
   "source": [
    "def train(model, optimizer, train_loader, device):\n",
    "    model.to(device)\n",
    "    criterion = nn.MSELoss().to(device)\n",
    "    best_loss = 9999999\n",
    "    best_model = None\n",
    "\n",
    "    for epoch in range(1, CFG['EPOCHS']+1):\n",
    "        model.train()\n",
    "        train_loss = []\n",
    "        train_mae = []\n",
    "        for X, Y in tqdm(iter(train_loader)):\n",
    "            X = X.to(device)\n",
    "            Y = Y.to(device)\n",
    "\n",
    "            optimizer.zero_grad()\n",
    "\n",
    "            output = model(X)\n",
    "            loss = criterion(output, Y)\n",
    "\n",
    "            loss.backward()\n",
    "            optimizer.step()\n",
    "\n",
    "            train_loss.append(loss.item())\n",
    "\n",
    "        #val_loss = validation(model, val_loader, criterion, device)\n",
    "        print(f'Epoch : [{epoch}] Train Loss : [{np.mean(train_loss):.5f}] Val Loss : []')\n",
    "\n",
    "        # if best_loss > val_loss:\n",
    "        #     best_loss = val_loss\n",
    "        #     best_model = model\n",
    "        #     print('Model Saved')\n",
    "    return model"
   ]
  },
  {
   "cell_type": "code",
   "execution_count": 18,
   "metadata": {
    "execution": {
     "iopub.execute_input": "2023-08-23T00:26:57.949180Z",
     "iopub.status.busy": "2023-08-23T00:26:57.949015Z",
     "iopub.status.idle": "2023-08-23T00:26:57.952593Z",
     "shell.execute_reply": "2023-08-23T00:26:57.952061Z",
     "shell.execute_reply.started": "2023-08-23T00:26:57.949166Z"
    },
    "id": "kZ4I5u9QPTNH"
   },
   "outputs": [],
   "source": [
    "def validation(model, val_loader, criterion, device):\n",
    "    model.eval()\n",
    "    val_loss = []\n",
    "\n",
    "    with torch.no_grad():\n",
    "        for X, Y in tqdm(iter(val_loader)):\n",
    "            X = X.to(device)\n",
    "            Y = Y.to(device)\n",
    "\n",
    "            output = model(X)\n",
    "            loss = criterion(output, Y)\n",
    "\n",
    "            val_loss.append(loss.item())\n",
    "    return np.mean(val_loss)"
   ]
  },
  {
   "cell_type": "code",
   "execution_count": 19,
   "metadata": {
    "execution": {
     "iopub.execute_input": "2023-08-23T00:26:57.953630Z",
     "iopub.status.busy": "2023-08-23T00:26:57.953465Z",
     "iopub.status.idle": "2023-08-23T00:26:57.957097Z",
     "shell.execute_reply": "2023-08-23T00:26:57.956556Z",
     "shell.execute_reply.started": "2023-08-23T00:26:57.953615Z"
    },
    "id": "nc6FygG0PedZ"
   },
   "outputs": [],
   "source": [
    "def inference(model, test_loader, device):\n",
    "    predictions = []\n",
    "\n",
    "    with torch.no_grad():\n",
    "        for X in tqdm(iter(test_loader)):\n",
    "            X = X.to(device)\n",
    "\n",
    "            output = model(X)\n",
    "\n",
    "            # 모델 출력인 output을 CPU로 이동하고 numpy 배열로 변환\n",
    "            output = output.cpu().numpy()\n",
    "\n",
    "            predictions.extend(output)\n",
    "\n",
    "    return np.array(predictions)"
   ]
  },
  {
   "cell_type": "code",
   "execution_count": 20,
   "metadata": {
    "execution": {
     "iopub.execute_input": "2023-08-23T00:26:57.958148Z",
     "iopub.status.busy": "2023-08-23T00:26:57.957984Z",
     "iopub.status.idle": "2023-08-23T00:26:57.964327Z",
     "shell.execute_reply": "2023-08-23T00:26:57.963691Z",
     "shell.execute_reply.started": "2023-08-23T00:26:57.958133Z"
    }
   },
   "outputs": [],
   "source": [
    "# 0 값을 보간하는 함수 정의\n",
    "def improved_fill_zeros_with_median_and_selective_interpolation_v6(data):\n",
    "    # 0이 아닌 값들만 추출\n",
    "    non_zero_data = [value for value in data if value != 0]\n",
    "    \n",
    "    # 모든 값이 0인 경우, 원본 데이터 반환\n",
    "    if len(non_zero_data) == 0: \n",
    "        return data\n",
    "    \n",
    "    # 0이 아닌 값들의 중앙값 계산\n",
    "    median_value = np.median(non_zero_data)\n",
    "    filled_data = data.copy()\n",
    "    \n",
    "    # 0이 아닌 값들의 인덱스를 찾음\n",
    "    non_zero_indices = np.where(data != 0)[0]\n",
    "    \n",
    "    # 배열의 시작 부분에 연속된 0 값들을 중앙값과 첫 번째 0이 아닌 값으로 선형 보간\n",
    "    if non_zero_indices[0] != 0:\n",
    "        filled_data[:non_zero_indices[0]] = np.linspace(median_value, data[non_zero_indices[0]], non_zero_indices[0]+1)[:-1]\n",
    "    \n",
    "    # 배열의 끝 부분에 연속된 0 값들을 마지막 0이 아닌 값과 중앙값으로 선형 보간\n",
    "    if non_zero_indices[-1] != len(data) - 1:\n",
    "        filled_data[non_zero_indices[-1]+1:] = np.linspace(data[non_zero_indices[-1]], median_value, len(data)-non_zero_indices[-1])[:-1]\n",
    "    \n",
    "    # 0이 아닌 값들 사이의 0 값들을 선형 보간\n",
    "    for i in range(len(non_zero_indices) - 1):\n",
    "        start, end = non_zero_indices[i], non_zero_indices[i+1]\n",
    "        filled_data[start+1:end] = np.linspace(data[start], data[end], end-start+1)[1:-1]\n",
    "    \n",
    "    return filled_data\n",
    "\n",
    "def add_noise_to_interpolated_values_v2(original_data, processed_data, std_dev=0.5):\n",
    "    \"\"\"Add Gaussian noise to the interpolated values in the processed data.\"\"\"\n",
    "    noise = np.where(original_data == 0, np.random.normal(0, std_dev, len(original_data)), 0)\n",
    "    noisy_processed_data = processed_data + noise\n",
    "    return noisy_processed_data\n",
    "\n",
    "def add_bootstrap_noise_to_interpolated_values(original_data, processed_data):\n",
    "    \"\"\"Add bootstrap noise to the interpolated values in the processed data.\"\"\"\n",
    "    non_zero_data = [value for value in original_data if value != 0]\n",
    "    if len(non_zero_data) == 0:\n",
    "        return processed_data\n",
    "    noise_values = np.random.choice(non_zero_data, size=len(original_data), replace=True) - np.median(non_zero_data)\n",
    "    noisy_processed_data = np.where(original_data == 0, processed_data + noise_values, processed_data)\n",
    "    return noisy_processed_data\n"
   ]
  },
  {
   "cell_type": "code",
   "execution_count": 21,
   "metadata": {},
   "outputs": [
    {
     "data": {
      "text/plain": [
       "[41]"
      ]
     },
     "execution_count": 21,
     "metadata": {},
     "output_type": "execute_result"
    }
   ],
   "source": [
    "seed_list=list(range(41, 42))\n",
    "seed_list"
   ]
  },
  {
   "cell_type": "code",
   "execution_count": 23,
   "metadata": {
    "execution": {
     "iopub.execute_input": "2023-08-23T00:26:57.965223Z",
     "iopub.status.busy": "2023-08-23T00:26:57.965042Z"
    },
    "id": "Zy5wRHPLOwPF"
   },
   "outputs": [
    {
     "name": "stderr",
     "output_type": "stream",
     "text": [
      "100%|██████████| 15890/15890 [00:25<00:00, 627.68it/s]\n",
      "100%|██████████| 15890/15890 [00:06<00:00, 2283.07it/s]\n",
      " 50%|████▉     | 3161/6363 [23:22<23:58,  2.23it/s]"
     ]
    }
   ],
   "source": [
    "# seed_list=list(range(41, 41+20))\n",
    "seed_list=list(range(41, 42))\n",
    "tqdm\n",
    "for seed in seed_list:\n",
    "    CFG = {\n",
    "    'TRAIN_WINDOW_SIZE':35, # 90일치로 학습\n",
    "    'PREDICT_SIZE':21, # 21일치 예측\n",
    "    'EPOCHS':8,\n",
    "    'LEARNING_RATE':0.001,\n",
    "    'BATCH_SIZE':1024,\n",
    "    'SEED':seed\n",
    "    }\n",
    "\n",
    "    seed_everything(CFG['SEED']) # Seed 고정\n",
    "\n",
    "#     train_data = pd.read_csv('./train.csv').drop(columns=['ID', '제품'])\n",
    "#     zero_ratios = (train_data.iloc[:,6:] == 0).mean(axis=1) *100\n",
    "#     ids_with_low_zeros = zero_ratios[zero_ratios <=70].index\n",
    "#     train_data_copy = train_data.copy()\n",
    "#     for id in tqdm(ids_with_low_zeros):\n",
    "#         sales_series = train_data_copy.loc[id, train_data_copy.columns[6:]]\n",
    "\n",
    "#         if sales_series.iloc[0] == 0:\n",
    "#             sales_series = sales_series.replace({0:np.nan}).bfill()\n",
    "\n",
    "#         if sales_series.iloc[-1] == 0:\n",
    "#             sales_series = sales_series.replace({0:np.nan}).ffill()\n",
    "\n",
    "#         interpolated_sales = sales_series.interpolate()\n",
    "\n",
    "#         train_data_copy.loc[id, train_data_copy.columns[6:]] = interpolated_sales.values\n",
    "\n",
    "#     train_data = train_data_copy.copy()\n",
    "\n",
    "    train_data = pd.read_csv('train.csv') #.drop(columns=['ID', '제품'])\n",
    "        \n",
    "    for i in range(len(train_data)):\n",
    "        value = list(train_data.iloc[i][6:])\n",
    "        interpolated_sales_data = improved_fill_zeros_with_median_and_selective_interpolation_v6(np.array(value))\n",
    "        noisy_interpolated_sales_data = add_noise_to_interpolated_values_v2(np.array(value), interpolated_sales_data)\n",
    "        #noisy_interpolated_sales_data = add_bootstrap_noise_to_interpolated_values(np.array(value), interpolated_sales_data)\n",
    "\n",
    "        #train_data.iloc[i, 6:] = noisy_interpolated_sales_data\n",
    "        train_data.iloc[i, 6:] = interpolated_sales_data\n",
    "\n",
    "    # 숫자형 변수들의 min-max scaling을 수행하는 코드입니다.\n",
    "    numeric_cols = train_data.columns[6:]\n",
    "    # 칵 column의 min 및 max 계산\n",
    "    min_values = train_data[numeric_cols].min(axis=1)\n",
    "    max_values = train_data[numeric_cols].max(axis=1)\n",
    "    # 각 행의 범위(max-min)를 계산하고, 범위가 0인 경우 1로 대체\n",
    "    ranges = max_values - min_values\n",
    "    ranges[ranges == 0] = 1\n",
    "    # min-max scaling 수행\n",
    "    train_data[numeric_cols] = (train_data[numeric_cols].subtract(min_values, axis=0)).div(ranges, axis=0)\n",
    "    # max와 min 값을 dictionary 형태로 저장\n",
    "    scale_min_dict = min_values.to_dict()\n",
    "    scale_max_dict = max_values.to_dict()\n",
    "\n",
    "    def make_train_data(data, train_size=CFG['TRAIN_WINDOW_SIZE'], predict_size=CFG['PREDICT_SIZE']):\n",
    "        '''\n",
    "        학습 기간 블럭, 예측 기간 블럭의 세트로 데이터를 생성\n",
    "        data : 일별 판매량\n",
    "        train_size : 학습에 활용할 기간\n",
    "        predict_size : 추론할 기간\n",
    "        '''\n",
    "        num_rows = len(data)\n",
    "        window_size = train_size + predict_size\n",
    "\n",
    "        # encode_info를 포함하지 않으므로 shape 변경\n",
    "        input_data = np.empty((num_rows * (len(data.columns) - window_size + 1), train_size, 1))\n",
    "        target_data = np.empty((num_rows * (len(data.columns) - window_size + 1), predict_size))\n",
    "\n",
    "        for i in tqdm(range(num_rows)):\n",
    "            sales_data = np.array(data.iloc[i, 6:])  # 첫 4개 열을 제외하고 가져옵니다.\n",
    "\n",
    "            for j in range(len(sales_data) - window_size + 1):\n",
    "                window = sales_data[j : j + window_size]\n",
    "                input_data[i * (len(data.columns) - window_size + 1) + j] = window[:train_size].reshape(-1, 1)\n",
    "                target_data[i * (len(data.columns) - window_size + 1) + j] = window[train_size:]\n",
    "\n",
    "        return input_data, target_data\n",
    "    \n",
    "    def make_predict_data(data, train_size=CFG['TRAIN_WINDOW_SIZE']):\n",
    "        '''\n",
    "        평가 데이터(Test Dataset)를 추론하기 위한 Input 데이터를 생성\n",
    "        data : 일별 판매량\n",
    "        train_size : 추론을 위해 필요한 일별 판매량 기간 (= 학습에 활용할 기간)\n",
    "        '''\n",
    "        num_rows = len(data)\n",
    "\n",
    "        # encode_info를 포함하지 않으므로 shape 변경\n",
    "        input_data = np.empty((num_rows, train_size, 1))\n",
    "\n",
    "        for i in tqdm(range(num_rows)):\n",
    "            sales_data = np.array(data.iloc[i, -train_size:])\n",
    "            input_data[i] = sales_data.reshape(-1, 1)  # shape을 (train_size, 1)로 변경\n",
    "\n",
    "        return input_data\n",
    "    \n",
    "    train_input, train_target = make_train_data(train_data)\n",
    "    test_input = make_predict_data(train_data)\n",
    "    data_len = len(train_input)\n",
    "\n",
    "    train_dataset = CustomDataset(train_input, train_target)\n",
    "    train_loader = DataLoader(train_dataset, batch_size = CFG['BATCH_SIZE'], shuffle=True, num_workers=0)\n",
    "    '''\n",
    "    class BaseModel(nn.Module):\n",
    "        def __init__(self, input_size=1, hidden_size=512, output_size=CFG['PREDICT_SIZE']):\n",
    "            super(BaseModel, self).__init__()\n",
    "            self.hidden_size = hidden_size\n",
    "            self.lstm = nn.LSTM(input_size, hidden_size, batch_first=True, bidirectional=True)\n",
    "            self.fc = nn.Sequential(\n",
    "                nn.Linear(hidden_size*2, hidden_size//2),\n",
    "                nn.ReLU(),\n",
    "                nn.Dropout(),\n",
    "                nn.Linear(hidden_size//2, output_size)\n",
    "            )\n",
    "\n",
    "            self.actv = nn.ReLU()\n",
    "\n",
    "        def forward(self, x):\n",
    "            # x shape: (B, TRAIN_WINDOW_SIZE, 5)\n",
    "            batch_size = x.size(0)\n",
    "            hidden = self.init_hidden(batch_size, x.device)\n",
    "\n",
    "            # LSTM layer\n",
    "            lstm_out, hidden = self.lstm(x, hidden)\n",
    "\n",
    "            # Only use the last output sequence\n",
    "            last_output = lstm_out[:, -1, :]\n",
    "\n",
    "            # Fully connected layer\n",
    "            output = self.actv(self.fc(last_output))\n",
    "\n",
    "            return output.squeeze(1)\n",
    "\n",
    "        def init_hidden(self, batch_size, device):\n",
    "            # Initialize hidden state and cell state\n",
    "            return (torch.zeros(2, batch_size, self.hidden_size, device=device),\n",
    "                    torch.zeros(2, batch_size, self.hidden_size, device=device))\n",
    "    '''\n",
    "    class BaseModel(nn.Module):\n",
    "        def __init__(self, input_size=1, hidden_size1=1024, hidden_size2=512, output_size=21):\n",
    "            super(BaseModel, self).__init__()\n",
    "            \n",
    "            # First LSTM layer\n",
    "            self.lstm1 = nn.LSTM(input_size, hidden_size1, batch_first=True, bidirectional=True)\n",
    "            \n",
    "            # Second LSTM layer\n",
    "            self.lstm2 = nn.LSTM(hidden_size1*2, hidden_size2, batch_first=True, bidirectional=True)\n",
    "            \n",
    "            # Fully connected layer\n",
    "            self.fc = nn.Sequential(\n",
    "                nn.Linear(hidden_size2 * 2, hidden_size2 // 2),\n",
    "                nn.ReLU(),\n",
    "                nn.Linear(hidden_size2 // 2, output_size)\n",
    "            )\n",
    "\n",
    "            self.actv = nn.ReLU()\n",
    "\n",
    "        def forward(self, x):\n",
    "            batch_size = x.size(0)\n",
    "            \n",
    "            # Initialize hidden states\n",
    "            h0_1, c0_1 = self.init_hidden(batch_size, x.device, self.lstm1.hidden_size)\n",
    "            h0_2, c0_2 = self.init_hidden(batch_size, x.device, self.lstm2.hidden_size)\n",
    "            \n",
    "            # First LSTM layer\n",
    "            lstm_out1, _ = self.lstm1(x, (h0_1, c0_1))\n",
    "            \n",
    "            # Second LSTM layer\n",
    "            lstm_out2, _ = self.lstm2(lstm_out1, (h0_2, c0_2))\n",
    "            \n",
    "            # Only use the last output sequence\n",
    "            last_output = lstm_out2[:, -1, :]\n",
    "            \n",
    "            # Fully connected layer\n",
    "            output = self.actv(self.fc(last_output))\n",
    "            \n",
    "            return output.squeeze(1)\n",
    "\n",
    "        def init_hidden(self, batch_size, device, hidden_size):\n",
    "            # Initialize hidden state and cell state for LSTM\n",
    "            return (torch.zeros(2, batch_size, hidden_size, device=device),\n",
    "                    torch.zeros(2, batch_size, hidden_size, device=device))\n",
    "\n",
    "\n",
    "\n",
    "    def train(model, optimizer, train_loader, device):\n",
    "        model.to(device)\n",
    "        criterion = nn.MSELoss().to(device)\n",
    "        best_loss = 9999999\n",
    "        best_model = None\n",
    "\n",
    "        for epoch in range(1, CFG['EPOCHS']+1):\n",
    "            model.train()\n",
    "            train_loss = []\n",
    "            train_mae = []\n",
    "            for X, Y in tqdm(iter(train_loader)):\n",
    "                X = X.to(device)\n",
    "                Y = Y.to(device)\n",
    "\n",
    "                optimizer.zero_grad()\n",
    "\n",
    "                output = model(X)\n",
    "                loss = criterion(output, Y)\n",
    "\n",
    "                loss.backward()\n",
    "                optimizer.step()\n",
    "\n",
    "                train_loss.append(loss.item())\n",
    "\n",
    "            #val_loss = validation(model, val_loader, criterion, device)\n",
    "            print(f'Epoch : [{epoch}] Train Loss : [{np.mean(train_loss):.5f}] Val Loss : []')\n",
    "\n",
    "            # if best_loss > val_loss:\n",
    "            #     best_loss = val_loss\n",
    "            #     best_model = model\n",
    "            #     print('Model Saved')\n",
    "        return model\n",
    "\n",
    "    model = BaseModel()\n",
    "    optimizer = torch.optim.Adam(params = model.parameters(), lr = CFG[\"LEARNING_RATE\"])\n",
    "    infer_model = train(model, optimizer, train_loader, device)\n",
    "\n",
    "    test_dataset = CustomDataset(test_input, None)\n",
    "    test_loader = DataLoader(test_dataset, batch_size = CFG['BATCH_SIZE'], shuffle=False, num_workers=0)\n",
    "\n",
    "    pred = inference(model, test_loader, device)\n",
    "\n",
    "    # 추론 결과를 inverse scaling\n",
    "    for idx in range(len(pred)):\n",
    "        pred[idx, :] = pred[idx, :] * (scale_max_dict[idx] - scale_min_dict[idx]) + scale_min_dict[idx]\n",
    "\n",
    "    # 결과 후처리\n",
    "    pred = np.round(pred, 0).astype(int)\n",
    "\n",
    "    submit = pd.read_csv('sample_submission.csv')\n",
    "    submit.iloc[:,1:] = pred\n",
    "    os.makedirs('./seed_new_interpolate', exist_ok=True)\n",
    "    submit.to_csv(f'bilstm_nofeature_35_imp3_noiseX_ChangeHyper_{seed}.csv',index=False)"
   ]
  },
  {
   "cell_type": "code",
   "execution_count": null,
   "metadata": {
    "id": "eiGS3R5nOr97"
   },
   "outputs": [],
   "source": [
    "# sub_list = sorted(os.listdir('./seed'))\n",
    "# sub_list"
   ]
  },
  {
   "cell_type": "code",
   "execution_count": null,
   "metadata": {
    "id": "dTy6ke_VOr7W"
   },
   "outputs": [],
   "source": [
    "# submit = pd.read_csv('./sample_submission.csv')\n",
    "# for i in sub_list[1:]:\n",
    "#     df = pd.read_csv('./seed/' + i)\n",
    "#     submit[submit.columns[1:]] += df[df.columns[1:]]\n",
    "    \n",
    "# submit[submit.columns[1:]] = submit[submit.columns[1:]] / len(sub_list[1:])\n",
    "# submit[submit.columns[1:]] = np.round(submit[submit.columns[1:]])\n",
    "# submit = submit.astype('int')\n",
    "# submit.to_csv('./bilstm_nofeat_35_impute_seed_ensemble.csv', index=False)"
   ]
  },
  {
   "cell_type": "code",
   "execution_count": null,
   "metadata": {},
   "outputs": [],
   "source": [
    "# submit = pd.read_csv('./sample_submission.csv')\n",
    "# for i in sub_list[1:7]:\n",
    "#     df = pd.read_csv('./seed/' + i)\n",
    "#     submit[submit.columns[1:]] += df[df.columns[1:]]\n",
    "    \n",
    "# submit[submit.columns[1:]] = submit[submit.columns[1:]] / len(sub_list[1:7])\n",
    "# submit[submit.columns[1:]] = np.round(submit[submit.columns[1:]])\n",
    "# submit = submit.astype('int')\n",
    "# submit.to_csv('./bilstm_nofeat_35_impute_seed_ensemble_6.csv', index=False)"
   ]
  },
  {
   "cell_type": "code",
   "execution_count": null,
   "metadata": {},
   "outputs": [],
   "source": []
  }
 ],
 "metadata": {
  "colab": {
   "authorship_tag": "ABX9TyO4ljMqstjQ/rgiBlyPUZR0",
   "provenance": []
  },
  "kernelspec": {
   "display_name": "Python 3 (ipykernel)",
   "language": "python",
   "name": "python3"
  },
  "language_info": {
   "codemirror_mode": {
    "name": "ipython",
    "version": 3
   },
   "file_extension": ".py",
   "mimetype": "text/x-python",
   "name": "python",
   "nbconvert_exporter": "python",
   "pygments_lexer": "ipython3",
   "version": "3.9.17"
  }
 },
 "nbformat": 4,
 "nbformat_minor": 4
}
